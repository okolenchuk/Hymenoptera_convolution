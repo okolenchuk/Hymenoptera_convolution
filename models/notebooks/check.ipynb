{
  "nbformat": 4,
  "nbformat_minor": 0,
  "metadata": {
    "colab": {
      "provenance": [],
      "authorship_tag": "ABX9TyPYyf5qnYDFmpvlRO5RcF+d",
      "include_colab_link": true
    },
    "kernelspec": {
      "name": "python3",
      "display_name": "Python 3"
    },
    "language_info": {
      "name": "python"
    },
    "accelerator": "GPU",
    "gpuClass": "standard"
  },
  "cells": [
    {
      "cell_type": "markdown",
      "metadata": {
        "id": "view-in-github",
        "colab_type": "text"
      },
      "source": [
        "<a href=\"https://colab.research.google.com/github/okolenchuk/Hymenoptera_convolution/blob/main/check.ipynb\" target=\"_parent\"><img src=\"https://colab.research.google.com/assets/colab-badge.svg\" alt=\"Open In Colab\"/></a>"
      ]
    },
    {
      "cell_type": "code",
      "execution_count": null,
      "metadata": {
        "id": "iRdcF5YyOWag"
      },
      "outputs": [],
      "source": [
        "!git clone https://github.com/okolenchuk/Hymenoptera_convolution\n",
        "!wget https://download.pytorch.org/tutorial/hymenoptera_data.zip;\n",
        "!unzip hymenoptera_data.zip;"
      ]
    },
    {
      "cell_type": "code",
      "source": [
        "!python /content/Hymenoptera_convolution/run.py --dataset /content/hymenoptera_data --num_epoch 5 --use_model Resnet18"
      ],
      "metadata": {
        "colab": {
          "base_uri": "https://localhost:8080/"
        },
        "id": "G3yQP4f5OoYW",
        "outputId": "e0b8c0ba-d2b2-4305-b299-85f4366918b8"
      },
      "execution_count": 4,
      "outputs": [
        {
          "output_type": "stream",
          "name": "stdout",
          "text": [
            "Create train dataloader with 8 batches\n",
            "Create val dataloader with 5 batches\n",
            "Class names are: ants, bees\n",
            "\n",
            "Training on GPU...\n",
            "/usr/local/lib/python3.7/dist-packages/torchvision/models/_utils.py:209: UserWarning: The parameter 'pretrained' is deprecated since 0.13 and will be removed in 0.15, please use 'weights' instead.\n",
            "  f\"The parameter '{pretrained_param}' is deprecated since 0.13 and will be removed in 0.15, \"\n",
            "/usr/local/lib/python3.7/dist-packages/torchvision/models/_utils.py:223: UserWarning: Arguments other than a weight enum or `None` for 'weights' are deprecated since 0.13 and will be removed in 0.15. The current behavior is equivalent to passing `weights=None`.\n",
            "  warnings.warn(msg)\n",
            "\n",
            "Start training the model ResNet...\n",
            "\n",
            "Start 1 epoch of training\n",
            "train Loss: 0.0409 Acc: 0.5287\n",
            "val Loss: 0.7285 Acc: 0.5425\n",
            "\n",
            "Start 2 epoch of training\n",
            "train Loss: 0.0229 Acc: 0.5574\n",
            "val Loss: 0.1307 Acc: 0.5490\n",
            "\n",
            "Start 3 epoch of training\n",
            "train Loss: 0.0206 Acc: 0.6680\n",
            "val Loss: 0.0456 Acc: 0.6209\n",
            "\n",
            "Start 4 epoch of training\n",
            "train Loss: 0.0181 Acc: 0.7049\n",
            "val Loss: 0.0279 Acc: 0.6601\n",
            "\n",
            "Start 5 epoch of training\n",
            "train Loss: 0.0175 Acc: 0.6967\n",
            "val Loss: 0.0334 Acc: 0.6536\n",
            "\n",
            "Training complete in 0m 24s\n",
            "Best val Acc: 0.660131\n"
          ]
        }
      ]
    },
    {
      "cell_type": "code",
      "source": [],
      "metadata": {
        "id": "zWp2iJ8WYssF"
      },
      "execution_count": null,
      "outputs": []
    }
  ]
}